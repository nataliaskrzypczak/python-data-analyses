{
 "cells": [
  {
   "attachments": {},
   "cell_type": "markdown",
   "metadata": {},
   "source": [
    "# Statystyki wyścigowe w Formule 1\n",
    "\n",
    "\n",
    "**Conspect:**\n",
    "- Cel: Project showing basic F1 statistics and allows the user to enter data and process it.\n",
    "- <a href=\"https://www.kaggle.com/datasets/rohanrao/formula-1-world-championship-1950-2020\">Kaggle dataset</a>"
   ]
  },
  {
   "attachments": {},
   "cell_type": "markdown",
   "metadata": {},
   "source": [
    "\n",
    "**Data Description**\n",
    "\n",
    "The data used for this project is a dataset on *Formula 1 World Championship from 1950 to 2020*, which was obtained from *Kaggle*.\n",
    "The dataset includes information on every race, driver, results and the circuits.\n",
    "\n",
    "**Project Description**\n",
    "\n",
    "The goal of this project is to create a program that displays basic Formula 1 statistics and allows the user to enter and process data.\n",
    "To achieve this, we will be using the previously mentioned *Formula 1 World Championship* dataset from *Kaggle*.\n",
    "The program will allow the user to view statistics such as driver and team standings, race winners or lap records. \n",
    "Additionally, the program will allow the user to enter their own data, such as lap times and race results, and process it to generate customized statistics and insights.\n",
    "\n",
    "***This program can be useful for Formula 1 enthusiasts who want to explore and analyze the sport's data in an interactive way.***\n",
    "\n",
    "\n"
   ]
  },
  {
   "cell_type": "markdown",
   "metadata": {},
   "source": [
    "# Import potrzebnych bibliotek"
   ]
  },
  {
   "cell_type": "code",
   "execution_count": 2,
   "metadata": {},
   "outputs": [],
   "source": [
    "import pandas as pd\n",
    "import os\n",
    "import matplotlib.pyplot as plt\n",
    "import numpy as np\n",
    "import seaborn as sns"
   ]
  },
  {
   "cell_type": "markdown",
   "metadata": {},
   "source": [
    "# Wczytanie plików"
   ]
  },
  {
   "cell_type": "code",
   "execution_count": 3,
   "metadata": {},
   "outputs": [],
   "source": [
    "# ścieżka do folderu z plikami CSV\n",
    "data_path = r'C:\\Users\\natal\\Desktop\\my projects\\Formula 1'"
   ]
  },
  {
   "cell_type": "code",
   "execution_count": 7,
   "metadata": {},
   "outputs": [],
   "source": [
    "drivers = pd.read_csv('drivers.csv')\n",
    "races = pd.read_csv('races.csv')\n",
    "results = pd.read_csv('results.csv')\n",
    "status = pd.read_csv('status.csv')"
   ]
  },
  {
   "cell_type": "markdown",
   "metadata": {},
   "source": [
    "# Czyszczenie danych"
   ]
  },
  {
   "cell_type": "code",
   "execution_count": 8,
   "metadata": {},
   "outputs": [],
   "source": [
    "#    drivers.drop(columns=['url', 'code'], inplace=True)\n",
    "#    results.drop(columns=['fastestLap', 'constructorId', 'rank', 'fastestLapTime', 'fastestLapSpeed'], inplace=True)\n",
    "#    # Łączenie plików\n",
    "#    results = results.merge(drivers[['driverId', 'surname', 'forename','dob', 'nationality']], on='driverId')\n",
    "#    results = results.merge(status, on='statusId')\n",
    "#    circuits.drop(columns=['url', 'location', 'circuitRef', 'country', 'lat', 'lng', 'alt'], inplace=True)\n",
    "#    races.drop(columns=['url', 'time', 'fp1_date', 'fp1_time','fp2_date','fp2_time','fp3_date','fp3_time','quali_date','quali_time','sprint_date','sprint_time'], inplace=True)\n",
    "#    races = races.merge(circuits[['circuitId', 'name']], on='circuitId', how='left', suffixes=('_race', '_circuit'))\n",
    "#    races = races[['raceId', 'year', 'round', 'name_race', 'date', 'circuitId', 'name_circuit']]\n",
    "\n",
    "#    results.to_csv('results.csv', index=False) # Zapisanie do pliku\n",
    "#    races.to_csv('races.csv', index=False)"
   ]
  },
  {
   "cell_type": "markdown",
   "metadata": {},
   "source": [
    "# EDA - podstawowe statystyki"
   ]
  },
  {
   "cell_type": "code",
   "execution_count": 9,
   "metadata": {},
   "outputs": [
    {
     "data": {
      "text/html": [
       "<div>\n",
       "<style scoped>\n",
       "    .dataframe tbody tr th:only-of-type {\n",
       "        vertical-align: middle;\n",
       "    }\n",
       "\n",
       "    .dataframe tbody tr th {\n",
       "        vertical-align: top;\n",
       "    }\n",
       "\n",
       "    .dataframe thead th {\n",
       "        text-align: right;\n",
       "    }\n",
       "</style>\n",
       "<table border=\"1\" class=\"dataframe\">\n",
       "  <thead>\n",
       "    <tr style=\"text-align: right;\">\n",
       "      <th></th>\n",
       "      <th>resultId</th>\n",
       "      <th>raceId</th>\n",
       "      <th>driverId</th>\n",
       "      <th>grid</th>\n",
       "      <th>positionOrder</th>\n",
       "      <th>points</th>\n",
       "      <th>laps</th>\n",
       "      <th>statusId</th>\n",
       "    </tr>\n",
       "  </thead>\n",
       "  <tbody>\n",
       "    <tr>\n",
       "      <th>count</th>\n",
       "      <td>25840.000000</td>\n",
       "      <td>25840.000000</td>\n",
       "      <td>25840.000000</td>\n",
       "      <td>25840.000000</td>\n",
       "      <td>25840.000000</td>\n",
       "      <td>25840.000000</td>\n",
       "      <td>25840.000000</td>\n",
       "      <td>25840.000000</td>\n",
       "    </tr>\n",
       "    <tr>\n",
       "      <th>mean</th>\n",
       "      <td>12921.334327</td>\n",
       "      <td>531.425813</td>\n",
       "      <td>261.732082</td>\n",
       "      <td>11.179063</td>\n",
       "      <td>12.876006</td>\n",
       "      <td>1.877053</td>\n",
       "      <td>45.977515</td>\n",
       "      <td>17.568692</td>\n",
       "    </tr>\n",
       "    <tr>\n",
       "      <th>std</th>\n",
       "      <td>7460.682031</td>\n",
       "      <td>299.440908</td>\n",
       "      <td>268.623016</td>\n",
       "      <td>7.243725</td>\n",
       "      <td>7.712391</td>\n",
       "      <td>4.169849</td>\n",
       "      <td>29.808951</td>\n",
       "      <td>26.155476</td>\n",
       "    </tr>\n",
       "    <tr>\n",
       "      <th>min</th>\n",
       "      <td>1.000000</td>\n",
       "      <td>1.000000</td>\n",
       "      <td>1.000000</td>\n",
       "      <td>0.000000</td>\n",
       "      <td>1.000000</td>\n",
       "      <td>0.000000</td>\n",
       "      <td>0.000000</td>\n",
       "      <td>1.000000</td>\n",
       "    </tr>\n",
       "    <tr>\n",
       "      <th>25%</th>\n",
       "      <td>6460.750000</td>\n",
       "      <td>293.000000</td>\n",
       "      <td>56.000000</td>\n",
       "      <td>5.000000</td>\n",
       "      <td>6.000000</td>\n",
       "      <td>0.000000</td>\n",
       "      <td>22.000000</td>\n",
       "      <td>1.000000</td>\n",
       "    </tr>\n",
       "    <tr>\n",
       "      <th>50%</th>\n",
       "      <td>12920.500000</td>\n",
       "      <td>514.000000</td>\n",
       "      <td>163.000000</td>\n",
       "      <td>11.000000</td>\n",
       "      <td>12.000000</td>\n",
       "      <td>0.000000</td>\n",
       "      <td>52.000000</td>\n",
       "      <td>11.000000</td>\n",
       "    </tr>\n",
       "    <tr>\n",
       "      <th>75%</th>\n",
       "      <td>19380.250000</td>\n",
       "      <td>784.000000</td>\n",
       "      <td>360.000000</td>\n",
       "      <td>17.000000</td>\n",
       "      <td>18.000000</td>\n",
       "      <td>2.000000</td>\n",
       "      <td>66.000000</td>\n",
       "      <td>14.000000</td>\n",
       "    </tr>\n",
       "    <tr>\n",
       "      <th>max</th>\n",
       "      <td>25845.000000</td>\n",
       "      <td>1096.000000</td>\n",
       "      <td>856.000000</td>\n",
       "      <td>34.000000</td>\n",
       "      <td>39.000000</td>\n",
       "      <td>50.000000</td>\n",
       "      <td>200.000000</td>\n",
       "      <td>141.000000</td>\n",
       "    </tr>\n",
       "  </tbody>\n",
       "</table>\n",
       "</div>"
      ],
      "text/plain": [
       "           resultId        raceId      driverId          grid  positionOrder  \\\n",
       "count  25840.000000  25840.000000  25840.000000  25840.000000   25840.000000   \n",
       "mean   12921.334327    531.425813    261.732082     11.179063      12.876006   \n",
       "std     7460.682031    299.440908    268.623016      7.243725       7.712391   \n",
       "min        1.000000      1.000000      1.000000      0.000000       1.000000   \n",
       "25%     6460.750000    293.000000     56.000000      5.000000       6.000000   \n",
       "50%    12920.500000    514.000000    163.000000     11.000000      12.000000   \n",
       "75%    19380.250000    784.000000    360.000000     17.000000      18.000000   \n",
       "max    25845.000000   1096.000000    856.000000     34.000000      39.000000   \n",
       "\n",
       "             points          laps      statusId  \n",
       "count  25840.000000  25840.000000  25840.000000  \n",
       "mean       1.877053     45.977515     17.568692  \n",
       "std        4.169849     29.808951     26.155476  \n",
       "min        0.000000      0.000000      1.000000  \n",
       "25%        0.000000     22.000000      1.000000  \n",
       "50%        0.000000     52.000000     11.000000  \n",
       "75%        2.000000     66.000000     14.000000  \n",
       "max       50.000000    200.000000    141.000000  "
      ]
     },
     "execution_count": 9,
     "metadata": {},
     "output_type": "execute_result"
    }
   ],
   "source": [
    "results.describe()"
   ]
  },
  {
   "cell_type": "code",
   "execution_count": 10,
   "metadata": {},
   "outputs": [
    {
     "name": "stdout",
     "output_type": "stream",
     "text": [
      "<class 'pandas.core.frame.DataFrame'>\n",
      "RangeIndex: 25840 entries, 0 to 25839\n",
      "Data columns (total 18 columns):\n",
      " #   Column         Non-Null Count  Dtype  \n",
      "---  ------         --------------  -----  \n",
      " 0   resultId       25840 non-null  int64  \n",
      " 1   raceId         25840 non-null  int64  \n",
      " 2   driverId       25840 non-null  int64  \n",
      " 3   number         25840 non-null  object \n",
      " 4   grid           25840 non-null  int64  \n",
      " 5   position       25840 non-null  object \n",
      " 6   positionText   25840 non-null  object \n",
      " 7   positionOrder  25840 non-null  int64  \n",
      " 8   points         25840 non-null  float64\n",
      " 9   laps           25840 non-null  int64  \n",
      " 10  time           25840 non-null  object \n",
      " 11  milliseconds   25840 non-null  object \n",
      " 12  statusId       25840 non-null  int64  \n",
      " 13  surname        25840 non-null  object \n",
      " 14  forename       25840 non-null  object \n",
      " 15  dob            25840 non-null  object \n",
      " 16  nationality    25840 non-null  object \n",
      " 17  status         25840 non-null  object \n",
      "dtypes: float64(1), int64(7), object(10)\n",
      "memory usage: 3.5+ MB\n"
     ]
    }
   ],
   "source": [
    "results.info()"
   ]
  },
  {
   "cell_type": "code",
   "execution_count": 11,
   "metadata": {},
   "outputs": [
    {
     "data": {
      "text/html": [
       "<div>\n",
       "<style scoped>\n",
       "    .dataframe tbody tr th:only-of-type {\n",
       "        vertical-align: middle;\n",
       "    }\n",
       "\n",
       "    .dataframe tbody tr th {\n",
       "        vertical-align: top;\n",
       "    }\n",
       "\n",
       "    .dataframe thead th {\n",
       "        text-align: right;\n",
       "    }\n",
       "</style>\n",
       "<table border=\"1\" class=\"dataframe\">\n",
       "  <thead>\n",
       "    <tr style=\"text-align: right;\">\n",
       "      <th></th>\n",
       "      <th>raceId</th>\n",
       "      <th>year</th>\n",
       "      <th>round</th>\n",
       "      <th>circuitId</th>\n",
       "    </tr>\n",
       "  </thead>\n",
       "  <tbody>\n",
       "    <tr>\n",
       "      <th>count</th>\n",
       "      <td>1102.000000</td>\n",
       "      <td>1102.000000</td>\n",
       "      <td>1102.000000</td>\n",
       "      <td>1102.000000</td>\n",
       "    </tr>\n",
       "    <tr>\n",
       "      <th>mean</th>\n",
       "      <td>553.853902</td>\n",
       "      <td>1992.049002</td>\n",
       "      <td>8.507260</td>\n",
       "      <td>23.697822</td>\n",
       "    </tr>\n",
       "    <tr>\n",
       "      <th>std</th>\n",
       "      <td>321.706151</td>\n",
       "      <td>20.308639</td>\n",
       "      <td>5.097545</td>\n",
       "      <td>19.337398</td>\n",
       "    </tr>\n",
       "    <tr>\n",
       "      <th>min</th>\n",
       "      <td>1.000000</td>\n",
       "      <td>1950.000000</td>\n",
       "      <td>1.000000</td>\n",
       "      <td>1.000000</td>\n",
       "    </tr>\n",
       "    <tr>\n",
       "      <th>25%</th>\n",
       "      <td>276.250000</td>\n",
       "      <td>1976.000000</td>\n",
       "      <td>4.000000</td>\n",
       "      <td>9.000000</td>\n",
       "    </tr>\n",
       "    <tr>\n",
       "      <th>50%</th>\n",
       "      <td>551.500000</td>\n",
       "      <td>1994.000000</td>\n",
       "      <td>8.000000</td>\n",
       "      <td>18.000000</td>\n",
       "    </tr>\n",
       "    <tr>\n",
       "      <th>75%</th>\n",
       "      <td>826.750000</td>\n",
       "      <td>2010.000000</td>\n",
       "      <td>12.000000</td>\n",
       "      <td>34.000000</td>\n",
       "    </tr>\n",
       "    <tr>\n",
       "      <th>max</th>\n",
       "      <td>1120.000000</td>\n",
       "      <td>2023.000000</td>\n",
       "      <td>23.000000</td>\n",
       "      <td>80.000000</td>\n",
       "    </tr>\n",
       "  </tbody>\n",
       "</table>\n",
       "</div>"
      ],
      "text/plain": [
       "            raceId         year        round    circuitId\n",
       "count  1102.000000  1102.000000  1102.000000  1102.000000\n",
       "mean    553.853902  1992.049002     8.507260    23.697822\n",
       "std     321.706151    20.308639     5.097545    19.337398\n",
       "min       1.000000  1950.000000     1.000000     1.000000\n",
       "25%     276.250000  1976.000000     4.000000     9.000000\n",
       "50%     551.500000  1994.000000     8.000000    18.000000\n",
       "75%     826.750000  2010.000000    12.000000    34.000000\n",
       "max    1120.000000  2023.000000    23.000000    80.000000"
      ]
     },
     "execution_count": 11,
     "metadata": {},
     "output_type": "execute_result"
    }
   ],
   "source": [
    "races.describe()"
   ]
  },
  {
   "cell_type": "code",
   "execution_count": 12,
   "metadata": {},
   "outputs": [
    {
     "name": "stdout",
     "output_type": "stream",
     "text": [
      "<class 'pandas.core.frame.DataFrame'>\n",
      "RangeIndex: 1102 entries, 0 to 1101\n",
      "Data columns (total 7 columns):\n",
      " #   Column        Non-Null Count  Dtype \n",
      "---  ------        --------------  ----- \n",
      " 0   raceId        1102 non-null   int64 \n",
      " 1   year          1102 non-null   int64 \n",
      " 2   round         1102 non-null   int64 \n",
      " 3   name_race     1102 non-null   object\n",
      " 4   date          1102 non-null   object\n",
      " 5   circuitId     1102 non-null   int64 \n",
      " 6   name_circuit  1102 non-null   object\n",
      "dtypes: int64(4), object(3)\n",
      "memory usage: 60.4+ KB\n"
     ]
    }
   ],
   "source": [
    "races.info()"
   ]
  },
  {
   "attachments": {},
   "cell_type": "markdown",
   "metadata": {},
   "source": [
    "# Wizualizacje danych"
   ]
  },
  {
   "cell_type": "code",
   "execution_count": 13,
   "metadata": {},
   "outputs": [
    {
     "data": {
      "image/png": "[encoded data removed]",
      "text/plain": [
       "<Figure size 1200x600 with 1 Axes>"
      ]
     },
     "metadata": {},
     "output_type": "display_data"
    }
   ],
   "source": [
    "# wizualizacja rozkładu kolumny 'nationality'\n",
    "\n",
    "nationality_counts = drivers.groupby(\"nationality\").size()\n",
    "sorted_nationalities = nationality_counts.sort_values(ascending=False)\n",
    "sns.set(style=\"darkgrid\")\n",
    "plt.figure(figsize=(12, 6))\n",
    "ax = sns.barplot(x=sorted_nationalities.index[:10], y=sorted_nationalities.values[:10])\n",
    "ax.set_title(\"Top 10 Nationalities in F1 Dataset\")\n",
    "\n",
    "\n",
    "for i, v in enumerate(sorted_nationalities.values[:10]):\n",
    "    ax.text(i, v + 10, str(v), ha='center', fontsize=10)\n",
    "\n",
    "\n",
    "plt.show()"
   ]
  },
  {
   "cell_type": "code",
   "execution_count": 14,
   "metadata": {},
   "outputs": [
    {
     "data": {
      "image/png": "[encoded data removed]",
      "text/plain": [
       "<Figure size 640x480 with 1 Axes>"
      ]
     },
     "metadata": {},
     "output_type": "display_data"
    }
   ],
   "source": [
    "races['year'] = pd.to_datetime(races['date']).dt.year # Wyodrębnienie roku z daty wyścigu\n",
    "\n",
    "year_counts = races['year'].value_counts().sort_index() # Sumowanie liczby wyścigów dla każdego roku\n",
    "\n",
    "colors = ['#4C72B0', '#55A868', '#C44E52', '#8172B2', '#CCB974', '#64B5CD', '#4E79A7', '#F1CE63', '#B9A0B7', '#EDB98A'] # Kolory dla wykresu\n",
    "\n",
    "plt.bar(year_counts.index, year_counts.values, color=colors)\n",
    "plt.title('Suma wyścigów z każdego roku')\n",
    "plt.xlabel('Rok')\n",
    "plt.ylabel('Liczba wyścigów')\n",
    "plt.show()"
   ]
  },
  {
   "cell_type": "code",
   "execution_count": null,
   "metadata": {},
   "outputs": [
    {
     "data": {
      "image/png": "[encoded data removed]",
      "text/plain": [
       "<Figure size 2000x600 with 1 Axes>"
      ]
     },
     "metadata": {},
     "output_type": "display_data"
    }
   ],
   "source": [
    "top10GP = races['name_race'].value_counts()[:10]\n",
    "\n",
    "sns.set(style=\"darkgrid\")\n",
    "plt.figure(figsize=(20, 6))\n",
    "ax = sns.barplot(x=top10GP.index, y=top10GP.values, palette=colors)\n",
    "ax.set_title(\"Top 10 najczęściej odbytych Grand Prix\")\n",
    "\n",
    "for i, v in enumerate(top10GP.values):\n",
    "    ax.text(i, v + 10, str(v), ha='center', fontsize=12)\n",
    "\n",
    "plt.show()"
   ]
  },
  {
   "cell_type": "code",
   "execution_count": 16,
   "metadata": {},
   "outputs": [
    {
     "data": {
      "text/plain": [
       "Finished           7083\n",
       "+1 Lap             3850\n",
       "Engine             2011\n",
       "+2 Laps            1593\n",
       "Accident           1044\n",
       "Did not qualify    1025\n",
       "Collision           833\n",
       "Gearbox             805\n",
       "Spun off            792\n",
       "+3 Laps             731\n",
       "Name: status, dtype: int64"
      ]
     },
     "execution_count": 16,
     "metadata": {},
     "output_type": "execute_result"
    }
   ],
   "source": [
    "# Zliczenie statusów i wyświetlenie 10 najczęściej występujących\n",
    "status_counts = results['status'].value_counts().head(10)\n",
    "status_counts"
   ]
  },
  {
   "attachments": {},
   "cell_type": "markdown",
   "metadata": {},
   "source": [
    "# Program pozwalający użytkownikowi na wprowadzenie danych kierowcy i uzyskanie odpowiedzi"
   ]
  },
  {
   "cell_type": "code",
   "execution_count": 19,
   "metadata": {},
   "outputs": [
    {
     "name": "stdout",
     "output_type": "stream",
     "text": [
      "ID kierowcy o nazwisku vettel to 20\n",
      "Wiek kierowcy to 35\n",
      "Ilość wygranych wyścigów: 53\n",
      "Data pierwszej wygranej kierowcy: 2008-09-14\n"
     ]
    }
   ],
   "source": [
    "nazwisko = input(\"Wprowadź nazwisko kierowcy, którego ID chcesz znaleźć: \")\n",
    "\n",
    "kierowcaId = \"\"\n",
    "\n",
    "for i, driver in results.iterrows():\n",
    "    if driver['surname'].lower() == nazwisko.lower():\n",
    "        kierowcaId = driver['driverId']\n",
    "        kierowcaDOB = driver['dob']\n",
    "        break\n",
    "\n",
    "if kierowcaId:\n",
    "    print(f\"ID kierowcy o nazwisku {nazwisko} to {kierowcaId}\")\n",
    "else:\n",
    "    print(f\"Nie znaleziono kierowcy o nazwisku {nazwisko}\")\n",
    "from datetime import datetime\n",
    "\n",
    "today = datetime.today()\n",
    "birthdate = datetime.strptime(kierowcaDOB, '%Y-%m-%d')\n",
    "age = today.year - birthdate.year - ((today.month, today.day) < (birthdate.month, birthdate.day))\n",
    "\n",
    "print(f\"Wiek kierowcy to {age}\")\n",
    "\n",
    "licznik = 0\n",
    "for index, row in results.iterrows():\n",
    "    if row['driverId'] == kierowcaId and row['position'] == \"1\":\n",
    "        licznik += 1\n",
    "\n",
    "print(f'Ilość wygranych wyścigów: {licznik}')\n",
    "\n",
    "if licznik > 0:\n",
    "    dfw = pd.to_datetime('2023-05-05') # data bazowa\n",
    "\n",
    "    for index, row in results.iterrows():\n",
    "        if row['driverId'] == kierowcaId and row['position'] == \"1\":\n",
    "            race_id = row['raceId']\n",
    "            race_date = races.loc[races['raceId'] == race_id, 'date'].values[0]\n",
    "            race_date = pd.to_datetime(race_date)\n",
    "            if race_date < dfw:\n",
    "                dfw = race_date\n",
    "\n",
    "    print(f'Data pierwszej wygranej kierowcy: {dfw.date()}')\n",
    "else:\n",
    "    print(f'kierowca nie wygrał zednego wyscigu')"
   ]
  }
 ],
 "metadata": {
  "kernelspec": {
   "display_name": "Python 3 (ipykernel)",
   "language": "python",
   "name": "python3"
  },
  "language_info": {
   "codemirror_mode": {
    "name": "ipython",
    "version": 3
   },
   "file_extension": ".py",
   "mimetype": "text/x-python",
   "name": "python",
   "nbconvert_exporter": "python",
   "pygments_lexer": "ipython3",
   "version": "3.9.13"
  }
 },
 "nbformat": 4,
 "nbformat_minor": 2
}
